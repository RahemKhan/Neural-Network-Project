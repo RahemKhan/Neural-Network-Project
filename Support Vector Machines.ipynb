{
 "cells": [
  {
   "cell_type": "code",
   "execution_count": 14,
   "id": "e2e3956c",
   "metadata": {},
   "outputs": [],
   "source": [
    "# import libraries\n",
    "import numpy as np\n",
    "import pandas as pd\n",
    "from sklearn.svm import SVC\n",
    "from sklearn.model_selection import GridSearchCV\n",
    "from joblib import dump\n",
    "import time\n",
    "import matplotlib.pyplot as plt\n",
    "from joblib import load\n",
    "from sklearn import metrics\n",
    "from sklearn.metrics import precision_recall_fscore_support\n",
    "from sklearn.metrics import plot_confusion_matrix"
   ]
  },
  {
   "cell_type": "code",
   "execution_count": 2,
   "id": "c2ebfa5e",
   "metadata": {},
   "outputs": [],
   "source": [
    "# Coalating datasets\n",
    "\n",
    "x_train = pd.read_csv('x_train.csv')\n",
    "y_train = pd.read_csv('y_train.csv')"
   ]
  },
  {
   "cell_type": "code",
   "execution_count": 3,
   "id": "3690d838",
   "metadata": {},
   "outputs": [],
   "source": [
    "# Set parameters\n",
    "parameters = {'kernel':('linear', 'rbf','poly'), 'C':[0.1, 1, 10], 'degree':[2,3,4]}"
   ]
  },
  {
   "cell_type": "code",
   "execution_count": 4,
   "id": "a4ffe4aa",
   "metadata": {},
   "outputs": [],
   "source": [
    "# Optimise the hyperparameters by grid search\n",
    "svc = SVC(random_state=0)\n",
    "gs = GridSearchCV(svc, parameters, cv=10, refit=True)\n",
    "\n",
    "start = time.time()\n",
    "\n",
    "gs.fit(x_train, y_train.values.ravel())\n",
    "\n",
    "end = time.time()"
   ]
  },
  {
   "cell_type": "code",
   "execution_count": 5,
   "id": "6f9050c4",
   "metadata": {},
   "outputs": [
    {
     "name": "stdout",
     "output_type": "stream",
     "text": [
      "Runtime of the program is 6.310313701629639\n"
     ]
    }
   ],
   "source": [
    "print(f\"Runtime of the program is {end - start}\")"
   ]
  },
  {
   "cell_type": "code",
   "execution_count": 6,
   "id": "3b3d1bb4",
   "metadata": {},
   "outputs": [
    {
     "name": "stdout",
     "output_type": "stream",
     "text": [
      "0.7672955974842767 {'C': 0.1, 'degree': 2, 'kernel': 'poly'}\n"
     ]
    }
   ],
   "source": [
    "# See the best score and the parameters\n",
    "print(gs.best_score_, gs.best_params_)"
   ]
  },
  {
   "cell_type": "code",
   "execution_count": 7,
   "id": "25571868",
   "metadata": {},
   "outputs": [
    {
     "data": {
      "text/plain": [
       "0.7802607076350093"
      ]
     },
     "execution_count": 7,
     "metadata": {},
     "output_type": "execute_result"
    }
   ],
   "source": [
    "# See the score of the best model on the train set\n",
    "gs.score(x_train,y_train)"
   ]
  },
  {
   "cell_type": "code",
   "execution_count": 8,
   "id": "d6c9108a",
   "metadata": {},
   "outputs": [
    {
     "data": {
      "text/plain": [
       "['SVM_optimised.joblib']"
      ]
     },
     "execution_count": 8,
     "metadata": {},
     "output_type": "execute_result"
    }
   ],
   "source": [
    "# Save the optimised model as a file\n",
    "dump(gs, 'SVM_optimised.joblib')"
   ]
  },
  {
   "cell_type": "code",
   "execution_count": 18,
   "id": "6d46b65f",
   "metadata": {},
   "outputs": [
    {
     "data": {
      "text/html": [
       "<div>\n",
       "<style scoped>\n",
       "    .dataframe tbody tr th:only-of-type {\n",
       "        vertical-align: middle;\n",
       "    }\n",
       "\n",
       "    .dataframe tbody tr th {\n",
       "        vertical-align: top;\n",
       "    }\n",
       "\n",
       "    .dataframe thead th {\n",
       "        text-align: right;\n",
       "    }\n",
       "</style>\n",
       "<table border=\"1\" class=\"dataframe\">\n",
       "  <thead>\n",
       "    <tr style=\"text-align: right;\">\n",
       "      <th></th>\n",
       "      <th>C</th>\n",
       "      <th>degree</th>\n",
       "      <th>kernel</th>\n",
       "      <th>score</th>\n",
       "    </tr>\n",
       "  </thead>\n",
       "  <tbody>\n",
       "    <tr>\n",
       "      <th>0</th>\n",
       "      <td>0.1</td>\n",
       "      <td>2</td>\n",
       "      <td>linear</td>\n",
       "      <td>0.649965</td>\n",
       "    </tr>\n",
       "    <tr>\n",
       "      <th>1</th>\n",
       "      <td>0.1</td>\n",
       "      <td>2</td>\n",
       "      <td>rbf</td>\n",
       "      <td>0.729839</td>\n",
       "    </tr>\n",
       "    <tr>\n",
       "      <th>2</th>\n",
       "      <td>0.1</td>\n",
       "      <td>2</td>\n",
       "      <td>poly</td>\n",
       "      <td>0.767296</td>\n",
       "    </tr>\n",
       "    <tr>\n",
       "      <th>3</th>\n",
       "      <td>0.1</td>\n",
       "      <td>3</td>\n",
       "      <td>linear</td>\n",
       "      <td>0.649965</td>\n",
       "    </tr>\n",
       "    <tr>\n",
       "      <th>4</th>\n",
       "      <td>0.1</td>\n",
       "      <td>3</td>\n",
       "      <td>rbf</td>\n",
       "      <td>0.729839</td>\n",
       "    </tr>\n",
       "    <tr>\n",
       "      <th>5</th>\n",
       "      <td>0.1</td>\n",
       "      <td>3</td>\n",
       "      <td>poly</td>\n",
       "      <td>0.759748</td>\n",
       "    </tr>\n",
       "    <tr>\n",
       "      <th>6</th>\n",
       "      <td>0.1</td>\n",
       "      <td>4</td>\n",
       "      <td>linear</td>\n",
       "      <td>0.649965</td>\n",
       "    </tr>\n",
       "    <tr>\n",
       "      <th>7</th>\n",
       "      <td>0.1</td>\n",
       "      <td>4</td>\n",
       "      <td>rbf</td>\n",
       "      <td>0.729839</td>\n",
       "    </tr>\n",
       "    <tr>\n",
       "      <th>8</th>\n",
       "      <td>0.1</td>\n",
       "      <td>4</td>\n",
       "      <td>poly</td>\n",
       "      <td>0.742977</td>\n",
       "    </tr>\n",
       "    <tr>\n",
       "      <th>9</th>\n",
       "      <td>1</td>\n",
       "      <td>2</td>\n",
       "      <td>linear</td>\n",
       "      <td>0.761635</td>\n",
       "    </tr>\n",
       "    <tr>\n",
       "      <th>10</th>\n",
       "      <td>1</td>\n",
       "      <td>2</td>\n",
       "      <td>rbf</td>\n",
       "      <td>0.754228</td>\n",
       "    </tr>\n",
       "    <tr>\n",
       "      <th>11</th>\n",
       "      <td>1</td>\n",
       "      <td>2</td>\n",
       "      <td>poly</td>\n",
       "      <td>0.759853</td>\n",
       "    </tr>\n",
       "    <tr>\n",
       "      <th>12</th>\n",
       "      <td>1</td>\n",
       "      <td>3</td>\n",
       "      <td>linear</td>\n",
       "      <td>0.761635</td>\n",
       "    </tr>\n",
       "    <tr>\n",
       "      <th>13</th>\n",
       "      <td>1</td>\n",
       "      <td>3</td>\n",
       "      <td>rbf</td>\n",
       "      <td>0.754228</td>\n",
       "    </tr>\n",
       "    <tr>\n",
       "      <th>14</th>\n",
       "      <td>1</td>\n",
       "      <td>3</td>\n",
       "      <td>poly</td>\n",
       "      <td>0.737491</td>\n",
       "    </tr>\n",
       "    <tr>\n",
       "      <th>15</th>\n",
       "      <td>1</td>\n",
       "      <td>4</td>\n",
       "      <td>linear</td>\n",
       "      <td>0.761635</td>\n",
       "    </tr>\n",
       "    <tr>\n",
       "      <th>16</th>\n",
       "      <td>1</td>\n",
       "      <td>4</td>\n",
       "      <td>rbf</td>\n",
       "      <td>0.754228</td>\n",
       "    </tr>\n",
       "    <tr>\n",
       "      <th>17</th>\n",
       "      <td>1</td>\n",
       "      <td>4</td>\n",
       "      <td>poly</td>\n",
       "      <td>0.757862</td>\n",
       "    </tr>\n",
       "    <tr>\n",
       "      <th>18</th>\n",
       "      <td>10</td>\n",
       "      <td>2</td>\n",
       "      <td>linear</td>\n",
       "      <td>0.757862</td>\n",
       "    </tr>\n",
       "    <tr>\n",
       "      <th>19</th>\n",
       "      <td>10</td>\n",
       "      <td>2</td>\n",
       "      <td>rbf</td>\n",
       "      <td>0.746646</td>\n",
       "    </tr>\n",
       "    <tr>\n",
       "      <th>20</th>\n",
       "      <td>10</td>\n",
       "      <td>2</td>\n",
       "      <td>poly</td>\n",
       "      <td>0.733788</td>\n",
       "    </tr>\n",
       "    <tr>\n",
       "      <th>21</th>\n",
       "      <td>10</td>\n",
       "      <td>3</td>\n",
       "      <td>linear</td>\n",
       "      <td>0.757862</td>\n",
       "    </tr>\n",
       "    <tr>\n",
       "      <th>22</th>\n",
       "      <td>10</td>\n",
       "      <td>3</td>\n",
       "      <td>rbf</td>\n",
       "      <td>0.746646</td>\n",
       "    </tr>\n",
       "    <tr>\n",
       "      <th>23</th>\n",
       "      <td>10</td>\n",
       "      <td>3</td>\n",
       "      <td>poly</td>\n",
       "      <td>0.756045</td>\n",
       "    </tr>\n",
       "    <tr>\n",
       "      <th>24</th>\n",
       "      <td>10</td>\n",
       "      <td>4</td>\n",
       "      <td>linear</td>\n",
       "      <td>0.757862</td>\n",
       "    </tr>\n",
       "    <tr>\n",
       "      <th>25</th>\n",
       "      <td>10</td>\n",
       "      <td>4</td>\n",
       "      <td>rbf</td>\n",
       "      <td>0.746646</td>\n",
       "    </tr>\n",
       "    <tr>\n",
       "      <th>26</th>\n",
       "      <td>10</td>\n",
       "      <td>4</td>\n",
       "      <td>poly</td>\n",
       "      <td>0.741300</td>\n",
       "    </tr>\n",
       "  </tbody>\n",
       "</table>\n",
       "</div>"
      ],
      "text/plain": [
       "      C degree  kernel     score\n",
       "0   0.1      2  linear  0.649965\n",
       "1   0.1      2     rbf  0.729839\n",
       "2   0.1      2    poly  0.767296\n",
       "3   0.1      3  linear  0.649965\n",
       "4   0.1      3     rbf  0.729839\n",
       "5   0.1      3    poly  0.759748\n",
       "6   0.1      4  linear  0.649965\n",
       "7   0.1      4     rbf  0.729839\n",
       "8   0.1      4    poly  0.742977\n",
       "9     1      2  linear  0.761635\n",
       "10    1      2     rbf  0.754228\n",
       "11    1      2    poly  0.759853\n",
       "12    1      3  linear  0.761635\n",
       "13    1      3     rbf  0.754228\n",
       "14    1      3    poly  0.737491\n",
       "15    1      4  linear  0.761635\n",
       "16    1      4     rbf  0.754228\n",
       "17    1      4    poly  0.757862\n",
       "18   10      2  linear  0.757862\n",
       "19   10      2     rbf  0.746646\n",
       "20   10      2    poly  0.733788\n",
       "21   10      3  linear  0.757862\n",
       "22   10      3     rbf  0.746646\n",
       "23   10      3    poly  0.756045\n",
       "24   10      4  linear  0.757862\n",
       "25   10      4     rbf  0.746646\n",
       "26   10      4    poly  0.741300"
      ]
     },
     "execution_count": 18,
     "metadata": {},
     "output_type": "execute_result"
    }
   ],
   "source": [
    "# Visualise the results of Cross Validation\n",
    "results = pd.DataFrame(gs.cv_results_)\n",
    "results = results[['param_C','param_degree','param_kernel','mean_test_score']]\n",
    "results.columns = ['C','degree','kernel','score']\n",
    "results"
   ]
  },
  {
   "cell_type": "markdown",
   "id": "0b50f85e",
   "metadata": {},
   "source": [
    "# Modelling on a SVC Testing set"
   ]
  },
  {
   "cell_type": "code",
   "execution_count": 11,
   "id": "1f8fcbe4",
   "metadata": {},
   "outputs": [],
   "source": [
    "# import files\n",
    "svc = load('SVM_optimised.joblib')\n",
    "x_test = pd.read_csv('x_test.csv')\n",
    "y_test = pd.read_csv('y_test.csv')"
   ]
  },
  {
   "cell_type": "code",
   "execution_count": 12,
   "id": "5748716e",
   "metadata": {},
   "outputs": [
    {
     "data": {
      "text/plain": [
       "0.7922077922077922"
      ]
     },
     "execution_count": 12,
     "metadata": {},
     "output_type": "execute_result"
    }
   ],
   "source": [
    "# See the score of the best model on the test set\n",
    "svc.score(x_test,y_test)"
   ]
  },
  {
   "cell_type": "code",
   "execution_count": 15,
   "id": "7e0757c4",
   "metadata": {},
   "outputs": [
    {
     "name": "stderr",
     "output_type": "stream",
     "text": [
      "C:\\Users\\rahem\\anaconda3\\lib\\site-packages\\sklearn\\utils\\deprecation.py:87: FutureWarning: Function plot_confusion_matrix is deprecated; Function `plot_confusion_matrix` is deprecated in 1.0 and will be removed in 1.2. Use one of the class methods: ConfusionMatrixDisplay.from_predictions or ConfusionMatrixDisplay.from_estimator.\n",
      "  warnings.warn(msg, category=FutureWarning)\n"
     ]
    },
    {
     "data": {
      "image/png": "[encoded data removed]",
      "text/plain": [
       "<Figure size 432x288 with 2 Axes>"
      ]
     },
     "metadata": {
      "needs_background": "light"
     },
     "output_type": "display_data"
    }
   ],
   "source": [
    "# Plot normalized confusion matrix\n",
    "disp = plot_confusion_matrix(svc, x_test, y_test, cmap=plt.cm.Blues, normalize='all')\n",
    "disp.ax_.set_title('SVM confusion matrix')\n",
    "plt.show()"
   ]
  },
  {
   "cell_type": "code",
   "execution_count": 16,
   "id": "e4190e23",
   "metadata": {},
   "outputs": [
    {
     "name": "stdout",
     "output_type": "stream",
     "text": [
      "precision [0.80110497 0.76      ] \n",
      "recall [0.92356688 0.51351351] \n",
      "F1 [0.85798817 0.61290323] \n",
      "support [157  74]\n"
     ]
    }
   ],
   "source": [
    "# See precision, recall and F1 score\n",
    "precision,recall,f,support = precision_recall_fscore_support(y_test, svc.predict(x_test))\n",
    "print('precision',precision,'\\nrecall',recall,'\\nF1',f,'\\nsupport',support)"
   ]
  },
  {
   "cell_type": "code",
   "execution_count": 17,
   "id": "439e4ba7",
   "metadata": {},
   "outputs": [
    {
     "name": "stderr",
     "output_type": "stream",
     "text": [
      "C:\\Users\\rahem\\anaconda3\\lib\\site-packages\\sklearn\\utils\\deprecation.py:87: FutureWarning: Function plot_roc_curve is deprecated; Function :func:`plot_roc_curve` is deprecated in 1.0 and will be removed in 1.2. Use one of the class methods: :meth:`sklearn.metric.RocCurveDisplay.from_predictions` or :meth:`sklearn.metric.RocCurveDisplay.from_estimator`.\n",
      "  warnings.warn(msg, category=FutureWarning)\n"
     ]
    },
    {
     "data": {
      "image/png": "[encoded data removed]",
      "text/plain": [
       "<Figure size 432x288 with 1 Axes>"
      ]
     },
     "metadata": {
      "needs_background": "light"
     },
     "output_type": "display_data"
    }
   ],
   "source": [
    "# Visualise ROC curve\n",
    "metrics.plot_roc_curve(svc, x_test, y_test, name='SVM')\n",
    "plt.show()"
   ]
  },
  {
   "cell_type": "code",
   "execution_count": null,
   "id": "f43647c0",
   "metadata": {},
   "outputs": [],
   "source": []
  }
 ],
 "metadata": {
  "kernelspec": {
   "display_name": "Python 3",
   "language": "python",
   "name": "python3"
  },
  "language_info": {
   "codemirror_mode": {
    "name": "ipython",
    "version": 3
   },
   "file_extension": ".py",
   "mimetype": "text/x-python",
   "name": "python",
   "nbconvert_exporter": "python",
   "pygments_lexer": "ipython3",
   "version": "3.8.8"
  }
 },
 "nbformat": 4,
 "nbformat_minor": 5
}
